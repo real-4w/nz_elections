{
 "metadata": {
  "language_info": {
   "codemirror_mode": {
    "name": "ipython",
    "version": 3
   },
   "file_extension": ".py",
   "mimetype": "text/x-python",
   "name": "python",
   "nbconvert_exporter": "python",
   "pygments_lexer": "ipython3",
   "version": "3.8.1-final"
  },
  "orig_nbformat": 2,
  "kernelspec": {
   "name": "python38132bit657d7e79ce2e4e3ab0b9c1e4091c7127",
   "display_name": "Python 3.8.1 32-bit"
  }
 },
 "nbformat": 4,
 "nbformat_minor": 2,
 "cells": [
  {
   "cell_type": "code",
   "execution_count": 1,
   "metadata": {},
   "outputs": [],
   "source": [
    "import pandas as pd\n",
    "import matplotlib.pyplot as plt \n",
    "import pathlib, yaml"
   ]
  },
  {
   "cell_type": "code",
   "execution_count": 2,
   "metadata": {},
   "outputs": [],
   "source": [
    "def ProcessYAML (yaml_file) :\n",
    "    '''This function opens the yaml file and returns the data object'''\n",
    "    with open(yaml_file) as f:\n",
    "        y_data = yaml.load(f, Loader=yaml.FullLoader)\n",
    "        debug = y_data['debug']\n",
    "        if debug == True : print(\"YAML file:\\n\", y_data)\n",
    "    return (y_data)  "
   ]
  },
  {
   "cell_type": "code",
   "execution_count": 3,
   "metadata": {},
   "outputs": [],
   "source": [
    "def LoadElections(elec_df, elec_file_path) :\n",
    "    path = pathlib.Path.cwd() / elec_file_path\n",
    "    elec_df = pd.read_csv(path)\n",
    "    if debug == True : print (elec_df)\n",
    "    return (elec_df)\n"
   ]
  },
  {
   "cell_type": "code",
   "execution_count": 5,
   "metadata": {
    "tags": []
   },
   "outputs": [
    {
     "output_type": "stream",
     "name": "stdout",
     "text": "YAML file:\n {'debug': True, 'plot': True, 'copy_to_file': False, 'overall_2017': '2017/overall-results-summary.csv'}\n                               Party  Seats Allocated  Party Vote  Party %  \\\n0                    ACT New Zealand                0       13075     0.50   \n1   Aotearoa Legalise Cannabis Party                0        8075     0.31   \n2                            Ban1080                0        3005     0.12   \n3                       Conservative                0        6253     0.24   \n4        Democrats for Social Credit                0         806     0.03   \n5                        Green Party                8      162443     6.27   \n6                     Internet Party                0         499     0.02   \n7                       Labour Party               17      956184    36.89   \n8                               MANA                0        3642     0.14   \n9                        Maori Party                0       30580     1.18   \n10                    National Party               15     1152075    44.45   \n11           New Zealand First Party                9      186706     7.20   \n12        New Zealand People's Party                0        1890     0.07   \n13                 NZ Outdoors Party                0        1620     0.06   \n14     The Opportunities Party (TOP)                0       63261     2.44   \n15                     United Future                0        1782     0.07   \n\n    Seats Won  Candidate Vote  Candidate %  \n0           1           25471         1.01  \n1           0            4144         0.16  \n2           0            3003         0.12  \n3           0            6115         0.24  \n4           0            1794         0.07  \n5           0          174725         6.91  \n6           0               0         0.00  \n7          29          958155        37.88  \n8           0            8196         0.32  \n9           0           53247         2.11  \n10         41         1114367        44.05  \n11          0          137816         5.45  \n12          0               0         0.00  \n13          0            1357         0.05  \n14          0           26034         1.03  \n15          0            1285         0.05  \n"
    }
   ],
   "source": [
    "yaml_data = ProcessYAML('elections.yaml')                                     #yaml settings are global variables\n",
    "debug = yaml_data['debug']\n",
    "elec2017 = yaml_data['overall_2017']\n",
    "elec_df = pd.DataFrame()\n",
    "elec_df = LoadElections(elec_df, elec2017)\n"
   ]
  },
  {
   "cell_type": "code",
   "execution_count": null,
   "metadata": {},
   "outputs": [],
   "source": []
  }
 ]
}